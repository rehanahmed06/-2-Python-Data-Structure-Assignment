{
 "cells": [
  {
   "cell_type": "code",
   "execution_count": 92,
   "id": "1cea585e-0784-4f22-a502-ef4714e6c46d",
   "metadata": {},
   "outputs": [
    {
     "name": "stdout",
     "output_type": "stream",
     "text": [
      "Rehan, A\n",
      "d, Ansari!\n",
      "!irasnA ,demhA ,naheR\n"
     ]
    }
   ],
   "source": [
    "# 1. Discuss string slicing and provide examples.\n",
    "# Answer:-\n",
    "\n",
    "#String slicing is a powerful technique for extracting specific portions of a string.\n",
    "text = \"Rehan, Ahmed, Ansari!\"\n",
    "\n",
    "# Extract the first 5 characters\n",
    "print(text[:8])\n",
    "\n",
    "# Extract characters from index 7 to the end\n",
    "print(text[11:]) \n",
    "\n",
    "# Extract reverse string\n",
    "print(text[::-1])\n"
   ]
  },
  {
   "cell_type": "code",
   "execution_count": 93,
   "id": "3e14e340-b591-4d19-a5bd-6cf3b2dae1c9",
   "metadata": {},
   "outputs": [
    {
     "data": {
      "text/plain": [
       "[100, 'MAngo', False, 3.14, (5+8j)]"
      ]
     },
     "execution_count": 93,
     "metadata": {},
     "output_type": "execute_result"
    }
   ],
   "source": [
    "# 2. Explain the key features of lists in Python.\n",
    "# Answer:-\n",
    "\n",
    "# Lists are ordered collections of items, which can be of different data types. They are mutable,\n",
    "# meaning their contents can be changed after creation.\n",
    "# Key features:- \n",
    "# a. They are created using square brackets []\n",
    "# b. Ordered: Elements have a specific position (index).\n",
    "# c. Mutable: Elements can be added, removed, or modified.\n",
    "# d. Can contain items of different data types.\n",
    "# e. Accessed using indexing and slicing.\n",
    "first_list = [100, \"MAngo\", False, 3.14, 5+8j]\n",
    "first_list\n"
   ]
  },
  {
   "cell_type": "code",
   "execution_count": 94,
   "id": "3109dd55-88fc-4aa1-ad3a-c7ab92136c72",
   "metadata": {},
   "outputs": [
    {
     "name": "stdout",
     "output_type": "stream",
     "text": [
      "10\n",
      "40\n",
      "[20, 30]\n",
      "[10, 20, 50, 40]\n",
      "[10, 20, 40]\n"
     ]
    }
   ],
   "source": [
    "# 3. Describe how to access, modify, and delete elements in a list with examples.\n",
    "# Answer:-\n",
    "\n",
    "# (a). Accessing elements:-\n",
    "second_list = [10, 20, 30, 40]\n",
    "\n",
    "# Access the first element\n",
    "print(second_list[0])\n",
    "\n",
    "# Access the last element\n",
    "print(second_list[-1])\n",
    "\n",
    "# Access a slice of elements\n",
    "print(second_list[1:3])\n",
    "\n",
    "\n",
    "# (b). Modifying elements:-\n",
    "second_list[2] = 50  \n",
    "print(second_list)  \n",
    "\n",
    "# (c). Deleting elements:\n",
    "del second_list[2]  \n",
    "print(second_list)\n",
    "\n"
   ]
  },
  {
   "cell_type": "code",
   "execution_count": 96,
   "id": "15f24a68-f7b7-4d95-ae0f-44be16c1ccde",
   "metadata": {},
   "outputs": [
    {
     "name": "stdout",
     "output_type": "stream",
     "text": [
      "10\n"
     ]
    }
   ],
   "source": [
    "# 4. Compare and contrast tuples and lists with examples\n",
    "# Answer:-\n",
    "\n",
    "# Tuples:-\n",
    "\n",
    "# Ordered collections of items.\n",
    "# Immutable (cannot be changed after creation).\n",
    "# Defined using parentheses ().\n",
    "\n",
    "# lists:-\n",
    "\n",
    "# Ordered collections of items.\n",
    "# Mutable (can be changed after creation).\n",
    "# Defined using square brackets [].\n",
    "\n",
    "my_tuple = (10, 20, 30)\n",
    "my_list = [10, 20, 30]\n",
    "\n",
    "print(my_tuple[0])\n",
    "my_list[0] = 50  "
   ]
  },
  {
   "cell_type": "code",
   "execution_count": 98,
   "id": "1d7d35e5-807b-4c18-acb2-1b33a700f488",
   "metadata": {},
   "outputs": [
    {
     "name": "stdout",
     "output_type": "stream",
     "text": [
      "{40, 10, 20, 30}\n"
     ]
    }
   ],
   "source": [
    "# 5. Describe the key features of sets and provide examples of their use.\n",
    "# Answer:-\n",
    "\n",
    "# Sets are unordered collections of unique items.\n",
    "# They are used for mathematical operations like union, intersection, and difference.\n",
    "\n",
    "# Key features:-\n",
    "\n",
    "# Unordered: Elements have no specific position.\n",
    "# Mutable: Elements can be added or removed.\n",
    "# Contain only unique elements (duplicates are removed).\n",
    "my_set = {10, 20, 40, 20, 30, 10, 30} \n",
    "print(my_set)  "
   ]
  },
  {
   "cell_type": "code",
   "execution_count": 100,
   "id": "44b4aa78-412a-424f-8bd7-50ecfb89f15a",
   "metadata": {},
   "outputs": [],
   "source": [
    "# 6. Discuss the use cases of tuples and sets in Python programming.\n",
    "# Answer:-\n",
    "\n",
    "# Tuples:-\n",
    "\n",
    "# Storing data that should not be changed (e.g., configuration settings).\n",
    "# Creating keys for dictionaries (since they are immutable).\n",
    "\n",
    "# Sets:-\n",
    "\n",
    "# Removing duplicates from a list.\n",
    "# Performing mathematical set operations (union, intersection, difference)."
   ]
  },
  {
   "cell_type": "code",
   "execution_count": 113,
   "id": "a5ff0730-a404-4574-9438-3aed73f0f0d7",
   "metadata": {},
   "outputs": [
    {
     "name": "stdout",
     "output_type": "stream",
     "text": [
      "{'name': 'Alice', 'age': 30}\n",
      "{'name': 'Alice', 'age': 30, 'city': 'New York'}\n",
      "{'name': 'Alice', 'age': 31, 'city': 'New York'}\n",
      "{'name': 'Alice', 'age': 31}\n"
     ]
    }
   ],
   "source": [
    "# 7. Describe how to add, modify, and delete items in a dictionary with examples.\n",
    "# Answer:-\n",
    "\n",
    "# Adding items:-\n",
    "\n",
    "my_dict = {'name': 'Alice', 'age': 30}\n",
    "print(my_dict)\n",
    "my_dict['city'] = 'New York' \n",
    "print(my_dict) \n",
    "\n",
    "\n",
    "# Modifying items:-\n",
    "\n",
    "my_dict['age'] = 31  \n",
    "print(my_dict)  \n",
    "\n",
    "\n",
    "# Deleting items:\n",
    "\n",
    "del my_dict['city'] \n",
    "print(my_dict)  "
   ]
  },
  {
   "cell_type": "code",
   "execution_count": 112,
   "id": "21acd890-835c-4c5f-9d98-d6c40c70c4fb",
   "metadata": {},
   "outputs": [],
   "source": [
    "# 8. Discuss the importance of dictionary keys being immutable and provide examples.\n",
    "# Answer:-\n",
    "\n",
    "# Dictionary keys must be immutable because they are used to calculate the hash value of the key-value pair,\n",
    "# which determines the storage location of the value in the dictionary. If keys were mutable,\n",
    "# their hash values could change, leading to unpredictable behavior.\n",
    "\n",
    "# Examples of immutable data types suitable for dictionary keys:\n",
    "\n",
    "# Integers\n",
    "\n",
    "# Floats\n",
    "\n",
    "# Strings\n",
    "\n",
    "# Tuples\n",
    "\n",
    "# Booleans"
   ]
  }
 ],
 "metadata": {
  "kernelspec": {
   "display_name": "Python 3 (ipykernel)",
   "language": "python",
   "name": "python3"
  },
  "language_info": {
   "codemirror_mode": {
    "name": "ipython",
    "version": 3
   },
   "file_extension": ".py",
   "mimetype": "text/x-python",
   "name": "python",
   "nbconvert_exporter": "python",
   "pygments_lexer": "ipython3",
   "version": "3.10.8"
  }
 },
 "nbformat": 4,
 "nbformat_minor": 5
}
